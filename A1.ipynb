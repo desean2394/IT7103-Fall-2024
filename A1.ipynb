{
  "nbformat": 4,
  "nbformat_minor": 0,
  "metadata": {
    "colab": {
      "provenance": [],
      "authorship_tag": "ABX9TyNVenfcyhU4HnSdUCF5GD7m",
      "include_colab_link": true
    },
    "kernelspec": {
      "name": "python3",
      "display_name": "Python 3"
    },
    "language_info": {
      "name": "python"
    }
  },
  "cells": [
    {
      "cell_type": "markdown",
      "metadata": {
        "id": "view-in-github",
        "colab_type": "text"
      },
      "source": [
        "<a href=\"https://colab.research.google.com/github/desean2394/IT7103-Fall-2024/blob/main/A1.ipynb\" target=\"_parent\"><img src=\"https://colab.research.google.com/assets/colab-badge.svg\" alt=\"Open In Colab\"/></a>"
      ]
    },
    {
      "cell_type": "code",
      "source": [
        "from google.colab import drive\n",
        "drive.mount('/content/drive')"
      ],
      "metadata": {
        "colab": {
          "base_uri": "https://localhost:8080/"
        },
        "id": "WW5shw613Z0j",
        "outputId": "e60a3182-59bb-4952-ca1c-da7bb77246f6"
      },
      "execution_count": 2,
      "outputs": [
        {
          "output_type": "stream",
          "name": "stdout",
          "text": [
            "Mounted at /content/drive\n"
          ]
        }
      ]
    },
    {
      "cell_type": "code",
      "source": [
        "import pandas as pd"
      ],
      "metadata": {
        "id": "jB0M6Vgg3kjm"
      },
      "execution_count": 3,
      "outputs": []
    },
    {
      "cell_type": "code",
      "source": [
        "path_employee_general = \"/content/drive/MyDrive/Assignment 1 Dataset/employee_general.csv\"\n",
        "path_employee_rating = \"/content/drive/MyDrive/Assignment 1 Dataset/employee_rating.csv\""
      ],
      "metadata": {
        "id": "Z462-Gg84h6V"
      },
      "execution_count": 9,
      "outputs": []
    },
    {
      "cell_type": "code",
      "source": [
        "employee_general = pd.read_csv(path_employee_general)\n",
        "employee_rating = pd.read_csv(path_employee_rating)"
      ],
      "metadata": {
        "id": "6oFLVeZf5EwM"
      },
      "execution_count": 11,
      "outputs": []
    },
    {
      "cell_type": "code",
      "source": [
        "print(employee_general.head())\n",
        "print(employee_rating.head())"
      ],
      "metadata": {
        "colab": {
          "base_uri": "https://localhost:8080/"
        },
        "id": "p1JRedC85jwn",
        "outputId": "5523fc8a-9b00-4bb0-d92c-f30ba2a7ac51"
      },
      "execution_count": 12,
      "outputs": [
        {
          "output_type": "stream",
          "name": "stdout",
          "text": [
            "  EmployeeNumber|Education|EducationField|MaritalStatus\n",
            "0                     1|College|Life Sciences|Single   \n",
            "1              2|Below College|Life Sciences|Married   \n",
            "2                             4|College|Other|Single   \n",
            "3                     5|Master|Life Sciences|Married   \n",
            "4                    7|Below College|Medical|Married   \n",
            "   EmployeeNumber              Department EnvironmentSatisfaction  \\\n",
            "0               1                   Sales                  Medium   \n",
            "1               2  Research & Development                    High   \n",
            "2               4  Research & Development               Very High   \n",
            "3               5  Research & Development               Very High   \n",
            "4               7  Research & Development                     Low   \n",
            "\n",
            "                 JobRole PerformanceRating  YearsAtCompany  \\\n",
            "0        Sales Executive         Excellent               6   \n",
            "1     Research Scientist       Outstanding              10   \n",
            "2  Laboratory Technician         Excellent               0   \n",
            "3     Research Scientist         Excellent               8   \n",
            "4  Laboratory Technician         Excellent               2   \n",
            "\n",
            "   YearsInCurrentRole  MonthlyIncome  \n",
            "0                   4           5993  \n",
            "1                   7           5130  \n",
            "2                   0           2090  \n",
            "3                   7           2909  \n",
            "4                   2           3468  \n"
          ]
        }
      ]
    },
    {
      "cell_type": "code",
      "source": [
        "print(\"\\nData types in employee_general:\")\n",
        "print(employee_general.dtypes)"
      ],
      "metadata": {
        "colab": {
          "base_uri": "https://localhost:8080/"
        },
        "id": "CH_dnKqk5sLs",
        "outputId": "68f4ca5a-9736-47e2-f2a6-9e7dca3a2344"
      },
      "execution_count": 13,
      "outputs": [
        {
          "output_type": "stream",
          "name": "stdout",
          "text": [
            "\n",
            "Data types in employee_general:\n",
            "EmployeeNumber|Education|EducationField|MaritalStatus    object\n",
            "dtype: object\n"
          ]
        }
      ]
    },
    {
      "cell_type": "code",
      "source": [
        "print(\"\\nData types in employee_rating:\")\n",
        "print(employee_rating.dtypes)"
      ],
      "metadata": {
        "colab": {
          "base_uri": "https://localhost:8080/"
        },
        "id": "Nx7CGlB7516q",
        "outputId": "72e918ea-7bbf-47fb-9894-8e95bef71294"
      },
      "execution_count": 14,
      "outputs": [
        {
          "output_type": "stream",
          "name": "stdout",
          "text": [
            "\n",
            "Data types in employee_rating:\n",
            "EmployeeNumber              int64\n",
            "Department                 object\n",
            "EnvironmentSatisfaction    object\n",
            "JobRole                    object\n",
            "PerformanceRating          object\n",
            "YearsAtCompany              int64\n",
            "YearsInCurrentRole          int64\n",
            "MonthlyIncome               int64\n",
            "dtype: object\n"
          ]
        }
      ]
    },
    {
      "cell_type": "code",
      "source": [
        "print(\"\\nClarified types for employee_general:\")\n",
        "print(\"\"\"\n",
        "- EmployeeNumber: Numeric (Nominal - Identifier)\n",
        "- Education: Categorical (Ordinal - Ordered levels like Below College < College < Master)\n",
        "- EducationField: Categorical (Nominal - No inherent order)\n",
        "- MaritalStatus: Categorical (Nominal - No inherent order)\n",
        "\"\"\")"
      ],
      "metadata": {
        "colab": {
          "base_uri": "https://localhost:8080/"
        },
        "id": "wW0spo596AIU",
        "outputId": "1e215ab7-671a-43ef-c374-8ce7140755d1"
      },
      "execution_count": 15,
      "outputs": [
        {
          "output_type": "stream",
          "name": "stdout",
          "text": [
            "\n",
            "Clarified types for employee_general:\n",
            "\n",
            "- EmployeeNumber: Numeric (Nominal - Identifier)\n",
            "- Education: Categorical (Ordinal - Ordered levels like Below College < College < Master)\n",
            "- EducationField: Categorical (Nominal - No inherent order)\n",
            "- MaritalStatus: Categorical (Nominal - No inherent order)\n",
            "\n"
          ]
        }
      ]
    },
    {
      "cell_type": "code",
      "source": [
        "print(\"\\nClarified types for employee_rating:\")\n",
        "print(\"\"\"\n",
        "- EmployeeNumber: Numeric (Nominal - Identifier)\n",
        "- Department: Categorical (Nominal - No inherent order)\n",
        "- EnvironmentSatisfaction: Categorical (Ordinal - Ordered satisfaction levels like Low < Medium < High)\n",
        "- JobRole: Categorical (Nominal - No inherent order)\n",
        "- PerformanceRating: Categorical (Ordinal - Ordered performance levels like Excellent < Outstanding)\n",
        "- YearsAtCompany: Numeric (Continuous Numeric)\n",
        "- YearsInCurrentRole: Numeric (Continuous Numeric)\n",
        "- MonthlyIncome: Numeric (Continuous Numeric)\n",
        "\"\"\")"
      ],
      "metadata": {
        "colab": {
          "base_uri": "https://localhost:8080/"
        },
        "id": "TCxDZ4e26Eng",
        "outputId": "0d7a598f-dec5-4b64-f2b1-8d0903441338"
      },
      "execution_count": 16,
      "outputs": [
        {
          "output_type": "stream",
          "name": "stdout",
          "text": [
            "\n",
            "Clarified types for employee_rating:\n",
            "\n",
            "- EmployeeNumber: Numeric (Nominal - Identifier)\n",
            "- Department: Categorical (Nominal - No inherent order)\n",
            "- EnvironmentSatisfaction: Categorical (Ordinal - Ordered satisfaction levels like Low < Medium < High)\n",
            "- JobRole: Categorical (Nominal - No inherent order)\n",
            "- PerformanceRating: Categorical (Ordinal - Ordered performance levels like Excellent < Outstanding)\n",
            "- YearsAtCompany: Numeric (Continuous Numeric)\n",
            "- YearsInCurrentRole: Numeric (Continuous Numeric)\n",
            "- MonthlyIncome: Numeric (Continuous Numeric)\n",
            "\n"
          ]
        }
      ]
    },
    {
      "cell_type": "code",
      "source": [
        "import numpy as np"
      ],
      "metadata": {
        "id": "wRYcLvdn6LDf"
      },
      "execution_count": 17,
      "outputs": []
    },
    {
      "cell_type": "code",
      "source": [
        "employee_rating['log_income'] = np.log(employee_rating['MonthlyIncome'])"
      ],
      "metadata": {
        "id": "33ltiWig6Nsr"
      },
      "execution_count": 18,
      "outputs": []
    },
    {
      "cell_type": "code",
      "source": [
        "print(employee_rating[['MonthlyIncome', 'log_income']].head())"
      ],
      "metadata": {
        "colab": {
          "base_uri": "https://localhost:8080/"
        },
        "id": "d_gMFqJX6U1S",
        "outputId": "6888820e-44c3-4246-9264-d8f052a6b6ae"
      },
      "execution_count": 19,
      "outputs": [
        {
          "output_type": "stream",
          "name": "stdout",
          "text": [
            "   MonthlyIncome  log_income\n",
            "0           5993    8.698347\n",
            "1           5130    8.542861\n",
            "2           2090    7.644919\n",
            "3           2909    7.975565\n",
            "4           3468    8.151333\n"
          ]
        }
      ]
    },
    {
      "cell_type": "code",
      "source": [
        "print(employee_rating['EnvironmentSatisfaction'].unique())\n",
        "print(employee_rating['PerformanceRating'].unique())"
      ],
      "metadata": {
        "colab": {
          "base_uri": "https://localhost:8080/"
        },
        "id": "gDq8_CtW6aat",
        "outputId": "a12aaba1-f05b-4470-d369-8ec350cd84ff"
      },
      "execution_count": 20,
      "outputs": [
        {
          "output_type": "stream",
          "name": "stdout",
          "text": [
            "['Medium' 'High' 'Very High' 'Low']\n",
            "['Excellent' 'Outstanding']\n"
          ]
        }
      ]
    },
    {
      "cell_type": "code",
      "source": [
        "employee_rating['EnvironmentSatisfaction'] = employee_rating['EnvironmentSatisfaction'].map({\n",
        "    'Low': 1, 'Medium': 2, 'High': 3, 'Very High': 4\n",
        "})"
      ],
      "metadata": {
        "id": "8LkViC7i6jdN"
      },
      "execution_count": 21,
      "outputs": []
    },
    {
      "cell_type": "code",
      "source": [
        "employee_rating['PerformanceRating'] = employee_rating['PerformanceRating'].map({\n",
        "    'Excellent': 1, 'Outstanding': 2\n",
        "})"
      ],
      "metadata": {
        "id": "WYUHVZ5W6nUx"
      },
      "execution_count": 22,
      "outputs": []
    },
    {
      "cell_type": "code",
      "source": [
        "print(employee_general.columns)\n"
      ],
      "metadata": {
        "colab": {
          "base_uri": "https://localhost:8080/"
        },
        "id": "CIvXKpM56tuM",
        "outputId": "5aa99d40-381d-492f-b751-87d606171904"
      },
      "execution_count": 24,
      "outputs": [
        {
          "output_type": "stream",
          "name": "stdout",
          "text": [
            "Index(['EmployeeNumber|Education|EducationField|MaritalStatus'], dtype='object')\n"
          ]
        }
      ]
    },
    {
      "cell_type": "code",
      "source": [
        "# Strip any spaces from column names\n",
        "employee_general.columns = employee_general.columns.str.strip()\n",
        "\n",
        "# Check if 'MaritalStatus' exists after cleaning\n",
        "print(employee_general.columns)\n"
      ],
      "metadata": {
        "colab": {
          "base_uri": "https://localhost:8080/"
        },
        "id": "XW9hYn657LKg",
        "outputId": "2e876879-6ddb-42ec-8730-a4841f50af78"
      },
      "execution_count": 25,
      "outputs": [
        {
          "output_type": "stream",
          "name": "stdout",
          "text": [
            "Index(['EmployeeNumber|Education|EducationField|MaritalStatus'], dtype='object')\n"
          ]
        }
      ]
    },
    {
      "cell_type": "code",
      "source": [
        "if 'MaritalStatus' in employee_general.columns:\n",
        "    employee_general['MaritalStatus'] = employee_general['MaritalStatus'].map({\n",
        "        'Single': 1,\n",
        "        'Married': 2,\n",
        "        'Divorced': 3\n",
        "    })\n",
        "else:\n",
        "    print(\"MaritalStatus column not found.\")\n"
      ],
      "metadata": {
        "colab": {
          "base_uri": "https://localhost:8080/"
        },
        "id": "LEnZF2Tv7WMs",
        "outputId": "3d8a6d49-7da6-4571-ed77-a9d3acff7def"
      },
      "execution_count": 26,
      "outputs": [
        {
          "output_type": "stream",
          "name": "stdout",
          "text": [
            "MaritalStatus column not found.\n"
          ]
        }
      ]
    },
    {
      "cell_type": "code",
      "source": [
        "employee_general = employee_general['EmployeeNumber|Education|EducationField|MaritalStatus'].str.split('|', expand=True)\n",
        "employee_general.columns = ['EmployeeNumber', 'Education', 'EducationField', 'MaritalStatus']\n"
      ],
      "metadata": {
        "id": "ker8HFq97qjb"
      },
      "execution_count": 27,
      "outputs": []
    },
    {
      "cell_type": "code",
      "source": [
        "print(employee_general.head())\n",
        "print(employee_general.columns)\n"
      ],
      "metadata": {
        "colab": {
          "base_uri": "https://localhost:8080/"
        },
        "id": "CkDMgXzz7t2C",
        "outputId": "8a3a0828-bd35-4f51-e0a3-f219d1e287c1"
      },
      "execution_count": 28,
      "outputs": [
        {
          "output_type": "stream",
          "name": "stdout",
          "text": [
            "  EmployeeNumber      Education EducationField MaritalStatus\n",
            "0              1        College  Life Sciences        Single\n",
            "1              2  Below College  Life Sciences       Married\n",
            "2              4        College          Other        Single\n",
            "3              5         Master  Life Sciences       Married\n",
            "4              7  Below College        Medical       Married\n",
            "Index(['EmployeeNumber', 'Education', 'EducationField', 'MaritalStatus'], dtype='object')\n"
          ]
        }
      ]
    },
    {
      "cell_type": "code",
      "source": [
        "employee_general['MaritalStatus'] = employee_general['MaritalStatus'].map({\n",
        "    'Single': 1,\n",
        "    'Married': 2,\n",
        "    'Divorced': 3\n",
        "})"
      ],
      "metadata": {
        "id": "XBN3bOrM7z7i"
      },
      "execution_count": 29,
      "outputs": []
    },
    {
      "cell_type": "code",
      "source": [
        "employee_general['Education'] = employee_general['Education'].map({\n",
        "    'Below College': 1,\n",
        "    'College': 2,\n",
        "    'Master': 3\n",
        "})"
      ],
      "metadata": {
        "id": "BePaZba98UYW"
      },
      "execution_count": 30,
      "outputs": []
    },
    {
      "cell_type": "code",
      "source": [
        "education_field_mapping = {\n",
        "    'Life Sciences': 1,\n",
        "    'Medical': 2,\n",
        "    'Other': 3\n",
        "}\n",
        "employee_general['EducationField'] = employee_general['EducationField'].map(education_field_mapping)\n"
      ],
      "metadata": {
        "id": "SqHc1sa38aZQ"
      },
      "execution_count": 31,
      "outputs": []
    },
    {
      "cell_type": "code",
      "source": [
        "education_field_mapping = {\n",
        "    'Life Sciences': 1,\n",
        "    'Medical': 2,\n",
        "    'Other': 3\n",
        "}\n",
        "employee_general['EducationField'] = employee_general['EducationField'].map(education_field_mapping)\n"
      ],
      "metadata": {
        "id": "ME-A3sw28d1c"
      },
      "execution_count": 32,
      "outputs": []
    },
    {
      "cell_type": "code",
      "source": [
        "print(employee_general['Education'].unique())\n",
        "print(employee_general['EducationField'].unique())\n"
      ],
      "metadata": {
        "colab": {
          "base_uri": "https://localhost:8080/"
        },
        "id": "ZqeZuoWd8knp",
        "outputId": "1dd79308-9d98-4955-f6ff-971ca4dd79f7"
      },
      "execution_count": 33,
      "outputs": [
        {
          "output_type": "stream",
          "name": "stdout",
          "text": [
            "[ 2.  1.  3. nan]\n",
            "[nan]\n"
          ]
        }
      ]
    },
    {
      "cell_type": "code",
      "source": [
        "print(employee_general['EmployeeNumber'].dtype)\n",
        "print(employee_rating['EmployeeNumber'].dtype)"
      ],
      "metadata": {
        "colab": {
          "base_uri": "https://localhost:8080/"
        },
        "id": "EIDWF1pp8n2X",
        "outputId": "82f52f08-c5b3-4331-8f3b-601eb06836ed"
      },
      "execution_count": 35,
      "outputs": [
        {
          "output_type": "stream",
          "name": "stdout",
          "text": [
            "object\n",
            "int64\n"
          ]
        }
      ]
    },
    {
      "cell_type": "code",
      "source": [
        "employee_general['EmployeeNumber'] = employee_general['EmployeeNumber'].astype(int)\n"
      ],
      "metadata": {
        "id": "HvaiGoMf85rQ"
      },
      "execution_count": 36,
      "outputs": []
    },
    {
      "cell_type": "code",
      "source": [
        "merged_data = pd.merge(employee_general, employee_rating, on='EmployeeNumber')\n"
      ],
      "metadata": {
        "id": "s00-D29C88jD"
      },
      "execution_count": 37,
      "outputs": []
    },
    {
      "cell_type": "code",
      "source": [
        "print(merged_data.head())\n"
      ],
      "metadata": {
        "colab": {
          "base_uri": "https://localhost:8080/"
        },
        "id": "TOWnZoPo8_Yc",
        "outputId": "30f5e4f4-c24b-44ac-8002-ea020ac13015"
      },
      "execution_count": 38,
      "outputs": [
        {
          "output_type": "stream",
          "name": "stdout",
          "text": [
            "   EmployeeNumber  Education  EducationField  MaritalStatus  \\\n",
            "0               1        2.0             NaN              1   \n",
            "1               2        1.0             NaN              2   \n",
            "2               4        2.0             NaN              1   \n",
            "3               5        3.0             NaN              2   \n",
            "4               7        1.0             NaN              2   \n",
            "\n",
            "               Department  EnvironmentSatisfaction                JobRole  \\\n",
            "0                   Sales                        2        Sales Executive   \n",
            "1  Research & Development                        3     Research Scientist   \n",
            "2  Research & Development                        4  Laboratory Technician   \n",
            "3  Research & Development                        4     Research Scientist   \n",
            "4  Research & Development                        1  Laboratory Technician   \n",
            "\n",
            "   PerformanceRating  YearsAtCompany  YearsInCurrentRole  MonthlyIncome  \\\n",
            "0                  1               6                   4           5993   \n",
            "1                  2              10                   7           5130   \n",
            "2                  1               0                   0           2090   \n",
            "3                  1               8                   7           2909   \n",
            "4                  1               2                   2           3468   \n",
            "\n",
            "   log_income  \n",
            "0    8.698347  \n",
            "1    8.542861  \n",
            "2    7.644919  \n",
            "3    7.975565  \n",
            "4    8.151333  \n"
          ]
        }
      ]
    },
    {
      "cell_type": "code",
      "source": [
        "print(employee_general['EducationField'].unique())\n"
      ],
      "metadata": {
        "colab": {
          "base_uri": "https://localhost:8080/"
        },
        "id": "7ClacZt19uc_",
        "outputId": "c2012fa5-75fc-4f21-c0b1-3fdd9050c331"
      },
      "execution_count": 39,
      "outputs": [
        {
          "output_type": "stream",
          "name": "stdout",
          "text": [
            "[nan]\n"
          ]
        }
      ]
    },
    {
      "cell_type": "code",
      "source": [
        "education_field_mapping = {\n",
        "    'Life Sciences': 1,\n",
        "    'Medical': 2,\n",
        "    'Other': 3,\n",
        "    'Technical Degree': 4,  # Add missing categories\n",
        "    'Marketing': 5,         # As needed\n",
        "    'Human Resources': 6\n",
        "}\n",
        "employee_general['EducationField'] = employee_general['EducationField'].map(education_field_mapping)\n"
      ],
      "metadata": {
        "id": "SNYmuxx89xZ1"
      },
      "execution_count": 40,
      "outputs": []
    },
    {
      "cell_type": "code",
      "source": [
        "print(employee_general['EducationField'].isna().sum())\n"
      ],
      "metadata": {
        "colab": {
          "base_uri": "https://localhost:8080/"
        },
        "id": "5pruYsNk90mK",
        "outputId": "14271569-4133-4495-d076-104049bec472"
      },
      "execution_count": 41,
      "outputs": [
        {
          "output_type": "stream",
          "name": "stdout",
          "text": [
            "1470\n"
          ]
        }
      ]
    },
    {
      "cell_type": "code",
      "source": [
        "employee_general = pd.read_csv(path_employee_general)\n",
        "employee_general = employee_general['EmployeeNumber|Education|EducationField|MaritalStatus'].str.split('|', expand=True)\n",
        "employee_general.columns = ['EmployeeNumber', 'Education', 'EducationField', 'MaritalStatus']\n"
      ],
      "metadata": {
        "id": "8jj3VcpF-EWY"
      },
      "execution_count": 42,
      "outputs": []
    },
    {
      "cell_type": "code",
      "source": [
        "print(employee_general['EducationField'].unique())"
      ],
      "metadata": {
        "colab": {
          "base_uri": "https://localhost:8080/"
        },
        "id": "8EXkU33g-Ngt",
        "outputId": "46eb7134-6a12-4810-c9e6-b1395d874532"
      },
      "execution_count": 43,
      "outputs": [
        {
          "output_type": "stream",
          "name": "stdout",
          "text": [
            "['Life Sciences' 'Other' 'Medical' 'Marketing' 'Technical Degree'\n",
            " 'Human Resources']\n"
          ]
        }
      ]
    },
    {
      "cell_type": "code",
      "source": [
        "education_field_mapping = {\n",
        "    'Life Sciences': 1,\n",
        "    'Medical': 2,\n",
        "    'Other': 3,\n",
        "    'Technical Degree': 4,\n",
        "    'Marketing': 5,\n",
        "    'Human Resources': 6,\n",
        "    'Engineering': 7,\n",
        "}"
      ],
      "metadata": {
        "id": "bzjItKOR-SVk"
      },
      "execution_count": 44,
      "outputs": []
    },
    {
      "cell_type": "code",
      "source": [
        "employee_general['EducationField'] = employee_general['EducationField'].map(education_field_mapping)"
      ],
      "metadata": {
        "id": "epaigfnb-a5X"
      },
      "execution_count": 45,
      "outputs": []
    },
    {
      "cell_type": "code",
      "source": [
        "employee_general['EducationField'].fillna(0, inplace=True)"
      ],
      "metadata": {
        "id": "Gqas-dIV-hpL"
      },
      "execution_count": 46,
      "outputs": []
    },
    {
      "cell_type": "code",
      "source": [
        "print(employee_general['EducationField'].isna().sum())"
      ],
      "metadata": {
        "colab": {
          "base_uri": "https://localhost:8080/"
        },
        "id": "aRanbfcd-km5",
        "outputId": "e69317fa-abb5-44aa-a7b2-500821dfc0d9"
      },
      "execution_count": 47,
      "outputs": [
        {
          "output_type": "stream",
          "name": "stdout",
          "text": [
            "0\n"
          ]
        }
      ]
    },
    {
      "cell_type": "code",
      "source": [
        "print(merged_data.head())"
      ],
      "metadata": {
        "colab": {
          "base_uri": "https://localhost:8080/"
        },
        "id": "R0w32sQe-sol",
        "outputId": "c37360e2-546a-492d-c1d5-cf2ffd8fa670"
      },
      "execution_count": 48,
      "outputs": [
        {
          "output_type": "stream",
          "name": "stdout",
          "text": [
            "   EmployeeNumber  Education  EducationField  MaritalStatus  \\\n",
            "0               1        2.0             NaN              1   \n",
            "1               2        1.0             NaN              2   \n",
            "2               4        2.0             NaN              1   \n",
            "3               5        3.0             NaN              2   \n",
            "4               7        1.0             NaN              2   \n",
            "\n",
            "               Department  EnvironmentSatisfaction                JobRole  \\\n",
            "0                   Sales                        2        Sales Executive   \n",
            "1  Research & Development                        3     Research Scientist   \n",
            "2  Research & Development                        4  Laboratory Technician   \n",
            "3  Research & Development                        4     Research Scientist   \n",
            "4  Research & Development                        1  Laboratory Technician   \n",
            "\n",
            "   PerformanceRating  YearsAtCompany  YearsInCurrentRole  MonthlyIncome  \\\n",
            "0                  1               6                   4           5993   \n",
            "1                  2              10                   7           5130   \n",
            "2                  1               0                   0           2090   \n",
            "3                  1               8                   7           2909   \n",
            "4                  1               2                   2           3468   \n",
            "\n",
            "   log_income  \n",
            "0    8.698347  \n",
            "1    8.542861  \n",
            "2    7.644919  \n",
            "3    7.975565  \n",
            "4    8.151333  \n"
          ]
        }
      ]
    },
    {
      "cell_type": "code",
      "source": [
        "print(employee_general['EducationField'].unique())"
      ],
      "metadata": {
        "colab": {
          "base_uri": "https://localhost:8080/"
        },
        "id": "iOGN-3kR_RwY",
        "outputId": "b9a31adb-2138-4f82-81e0-59bcad1d3275"
      },
      "execution_count": 49,
      "outputs": [
        {
          "output_type": "stream",
          "name": "stdout",
          "text": [
            "[1 3 2 5 4 6]\n"
          ]
        }
      ]
    },
    {
      "cell_type": "code",
      "source": [
        "education_field_mapping = {\n",
        "    'Life Sciences': 1,\n",
        "    'Medical': 2,\n",
        "    'Other': 3,\n",
        "    'Technical Degree': 4,\n",
        "    'Marketing': 5,\n",
        "    'Human Resources': 6,\n",
        "    }"
      ],
      "metadata": {
        "id": "yG35sHEd_YYW"
      },
      "execution_count": 50,
      "outputs": []
    },
    {
      "cell_type": "code",
      "source": [
        "employee_general['EducationField'] = employee_general['EducationField'].map(education_field_mapping)"
      ],
      "metadata": {
        "id": "fesFGXcMAicd"
      },
      "execution_count": 51,
      "outputs": []
    },
    {
      "cell_type": "code",
      "source": [
        "print(employee_general['EducationField'].isna().sum())"
      ],
      "metadata": {
        "colab": {
          "base_uri": "https://localhost:8080/"
        },
        "id": "cLQBrBx_ApE7",
        "outputId": "58401d3a-a2fd-49df-baf7-8d790f8df668"
      },
      "execution_count": 52,
      "outputs": [
        {
          "output_type": "stream",
          "name": "stdout",
          "text": [
            "1470\n"
          ]
        }
      ]
    },
    {
      "cell_type": "code",
      "source": [
        "employee_general['EducationField'].fillna(0, inplace=True)"
      ],
      "metadata": {
        "id": "qhmbbh5MAubX"
      },
      "execution_count": 53,
      "outputs": []
    },
    {
      "cell_type": "code",
      "source": [
        "print(employee_general['EducationField'].unique())\n",
        "print(employee_general['EducationField'].isna().sum())"
      ],
      "metadata": {
        "colab": {
          "base_uri": "https://localhost:8080/"
        },
        "id": "7uaWkXu8A0G9",
        "outputId": "733d4081-2db2-488c-c4ae-79189f19bd8b"
      },
      "execution_count": 54,
      "outputs": [
        {
          "output_type": "stream",
          "name": "stdout",
          "text": [
            "[0.]\n",
            "0\n"
          ]
        }
      ]
    },
    {
      "cell_type": "code",
      "source": [
        "print(merged_data.head())"
      ],
      "metadata": {
        "colab": {
          "base_uri": "https://localhost:8080/"
        },
        "id": "xhCzeVImBDba",
        "outputId": "95ecec48-3b9b-48b7-db46-be6ea338276b"
      },
      "execution_count": 55,
      "outputs": [
        {
          "output_type": "stream",
          "name": "stdout",
          "text": [
            "   EmployeeNumber  Education  EducationField  MaritalStatus  \\\n",
            "0               1        2.0             NaN              1   \n",
            "1               2        1.0             NaN              2   \n",
            "2               4        2.0             NaN              1   \n",
            "3               5        3.0             NaN              2   \n",
            "4               7        1.0             NaN              2   \n",
            "\n",
            "               Department  EnvironmentSatisfaction                JobRole  \\\n",
            "0                   Sales                        2        Sales Executive   \n",
            "1  Research & Development                        3     Research Scientist   \n",
            "2  Research & Development                        4  Laboratory Technician   \n",
            "3  Research & Development                        4     Research Scientist   \n",
            "4  Research & Development                        1  Laboratory Technician   \n",
            "\n",
            "   PerformanceRating  YearsAtCompany  YearsInCurrentRole  MonthlyIncome  \\\n",
            "0                  1               6                   4           5993   \n",
            "1                  2              10                   7           5130   \n",
            "2                  1               0                   0           2090   \n",
            "3                  1               8                   7           2909   \n",
            "4                  1               2                   2           3468   \n",
            "\n",
            "   log_income  \n",
            "0    8.698347  \n",
            "1    8.542861  \n",
            "2    7.644919  \n",
            "3    7.975565  \n",
            "4    8.151333  \n"
          ]
        }
      ]
    },
    {
      "cell_type": "code",
      "source": [
        "employee_general = pd.read_csv(path_employee_general)"
      ],
      "metadata": {
        "id": "Z6HHHPYTBfZi"
      },
      "execution_count": 56,
      "outputs": []
    },
    {
      "cell_type": "code",
      "source": [
        "employee_general = employee_general['EmployeeNumber|Education|EducationField|MaritalStatus'].str.split('|', expand=True)"
      ],
      "metadata": {
        "id": "j7RdxHK6Bj8W"
      },
      "execution_count": 57,
      "outputs": []
    },
    {
      "cell_type": "code",
      "source": [
        "employee_general.columns = ['EmployeeNumber', 'Education', 'EducationField', 'MaritalStatus']"
      ],
      "metadata": {
        "id": "qyLQfwr3Bqf2"
      },
      "execution_count": 58,
      "outputs": []
    },
    {
      "cell_type": "code",
      "source": [
        "print(employee_general['EducationField'].unique())"
      ],
      "metadata": {
        "colab": {
          "base_uri": "https://localhost:8080/"
        },
        "id": "GJU262w_Bt4M",
        "outputId": "25c2eb84-d1e9-4161-80a1-517ba4db766f"
      },
      "execution_count": 59,
      "outputs": [
        {
          "output_type": "stream",
          "name": "stdout",
          "text": [
            "['Life Sciences' 'Other' 'Medical' 'Marketing' 'Technical Degree'\n",
            " 'Human Resources']\n"
          ]
        }
      ]
    },
    {
      "cell_type": "code",
      "source": [
        "education_field_mapping = {\n",
        "    'Life Sciences': 1,\n",
        "    'Medical': 2,\n",
        "    'Other': 3,\n",
        "    'Technical Degree': 4,\n",
        "    'Marketing': 5,\n",
        "    'Human Resources': 6,\n",
        "    }"
      ],
      "metadata": {
        "id": "AYjYyXPtE1kl"
      },
      "execution_count": 60,
      "outputs": []
    },
    {
      "cell_type": "code",
      "source": [
        "employee_general['EducationField'] = employee_general['EducationField'].map(education_field_mapping)"
      ],
      "metadata": {
        "id": "1sQUO-6YFCbl"
      },
      "execution_count": 61,
      "outputs": []
    },
    {
      "cell_type": "code",
      "source": [
        "print(employee_general['EducationField'].isna().sum())"
      ],
      "metadata": {
        "colab": {
          "base_uri": "https://localhost:8080/"
        },
        "id": "BeWehREFFHa0",
        "outputId": "e66d995c-90ea-4470-925f-ad1239542b2b"
      },
      "execution_count": 62,
      "outputs": [
        {
          "output_type": "stream",
          "name": "stdout",
          "text": [
            "0\n"
          ]
        }
      ]
    },
    {
      "cell_type": "code",
      "source": [
        "employee_general['EducationField'].fillna(0, inplace=True)"
      ],
      "metadata": {
        "id": "CHlVOvIgFOFF"
      },
      "execution_count": 63,
      "outputs": []
    },
    {
      "cell_type": "code",
      "source": [
        "employee_general['EmployeeNumber'] = employee_general['EmployeeNumber'].astype(int)\n",
        "employee_rating['EmployeeNumber'] = employee_rating['EmployeeNumber'].astype(int)"
      ],
      "metadata": {
        "id": "N0QayLoDFaPy"
      },
      "execution_count": 64,
      "outputs": []
    },
    {
      "cell_type": "code",
      "source": [
        "merged_data = pd.merge(employee_general, employee_rating, on='EmployeeNumber')\n"
      ],
      "metadata": {
        "id": "hMz2r1lzFeGn"
      },
      "execution_count": 65,
      "outputs": []
    },
    {
      "cell_type": "code",
      "source": [
        "print(merged_data.head())"
      ],
      "metadata": {
        "colab": {
          "base_uri": "https://localhost:8080/"
        },
        "id": "rvkSWIXgFjWz",
        "outputId": "a3071dc7-e989-4278-c494-9ea2ef71b4c5"
      },
      "execution_count": 66,
      "outputs": [
        {
          "output_type": "stream",
          "name": "stdout",
          "text": [
            "   EmployeeNumber      Education  EducationField MaritalStatus  \\\n",
            "0               1        College               1        Single   \n",
            "1               2  Below College               1       Married   \n",
            "2               4        College               3        Single   \n",
            "3               5         Master               1       Married   \n",
            "4               7  Below College               2       Married   \n",
            "\n",
            "               Department  EnvironmentSatisfaction                JobRole  \\\n",
            "0                   Sales                        2        Sales Executive   \n",
            "1  Research & Development                        3     Research Scientist   \n",
            "2  Research & Development                        4  Laboratory Technician   \n",
            "3  Research & Development                        4     Research Scientist   \n",
            "4  Research & Development                        1  Laboratory Technician   \n",
            "\n",
            "   PerformanceRating  YearsAtCompany  YearsInCurrentRole  MonthlyIncome  \\\n",
            "0                  1               6                   4           5993   \n",
            "1                  2              10                   7           5130   \n",
            "2                  1               0                   0           2090   \n",
            "3                  1               8                   7           2909   \n",
            "4                  1               2                   2           3468   \n",
            "\n",
            "   log_income  \n",
            "0    8.698347  \n",
            "1    8.542861  \n",
            "2    7.644919  \n",
            "3    7.975565  \n",
            "4    8.151333  \n"
          ]
        }
      ]
    }
  ]
}